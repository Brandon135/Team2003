{
 "cells": [
  {
   "cell_type": "code",
   "execution_count": null,
   "metadata": {},
   "outputs": [],
   "source": [
    "def stop():\n",
    "    set_motor_power(\"MOTOR_LEFT\", 0)\n",
    "    set_motor_power(\"MOTOR_RIGHT\", 0)\n",
    "\n",
    "def turn_90_degrees(direction):\n",
    "    turn_duration = 1.0 \n",
    "    turn_power = 50  \n",
    "\n",
    "    if direction() == 'left':\n",
    "        tiki.counter_clockwise(turn_power)\n",
    "    elif direction() == 'right':\n",
    "        tiki.clockwise(turn_power)\n",
    "\n",
    "    time.sleep(turn_duration)\n",
    "    stop()\n",
    "    \n",
    "    \n",
    "def turn_90_degrees(direction, angle):\n",
    "    turn_duration = angle * 0.3\n",
    "    turn_power = 50  \n",
    "\n",
    "    if direction() == 'left':\n",
    "        tiki.counter_clockwise(turn_power)\n",
    "    elif direction() == 'right':\n",
    "        tiki.clockwise(turn_power)\n",
    "\n",
    "    time.sleep(angle)\n",
    "    stop()"
   ]
  }
 ],
 "metadata": {
  "kernelspec": {
   "display_name": "robot",
   "language": "python",
   "name": "python3"
  },
  "language_info": {
   "name": "python",
   "version": "3.8.10"
  }
 },
 "nbformat": 4,
 "nbformat_minor": 2
}
