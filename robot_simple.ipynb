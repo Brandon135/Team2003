{
 "cells": [
  {
   "cell_type": "code",
   "execution_count": null,
   "metadata": {},
   "outputs": [],
   "source": [
    "import cv2\n",
    "import numpy as np\n",
    "\n",
    "import ipywidgets as widgets\n",
    "from IPython.display import display, clear_output\n",
    "import time\n",
    "\n",
    "from tiki.mini import TikiMini"
   ]
  },
  {
   "cell_type": "code",
   "execution_count": null,
   "metadata": {},
   "outputs": [],
   "source": [
    "tiki = TikiMini()"
   ]
  },
  {
   "cell_type": "code",
   "execution_count": null,
   "metadata": {},
   "outputs": [],
   "source": [
    "# Hyper Parameters\n",
    "lower_green = np.array([67, 23, 101])\n",
    "upper_green = np.array([80, 255, 168])\n",
    "\n",
    "lower_line = np.array([67, 23, 101])\n",
    "upper_line = np.array([80, 255, 168])\n",
    "\n",
    "rho = 1\n",
    "theta = np.pi / 180\n",
    "threshold = 80\n",
    "min_line_length = 50\n",
    "max_line_gap = 10\n",
    "angle_threshold = 30"
   ]
  },
  {
   "cell_type": "code",
   "execution_count": 3,
   "metadata": {},
   "outputs": [],
   "source": [
    "class Wrapper:\n",
    "    def __init__(self, save_name=None):\n",
    "        self.cap = cv2.VideoCapture(\n",
    "            \"nvarguscamerasrc ! video/x-raw(memory:NVMM), width=640, height=480, framerate=15/1, format=NV12 ! \"\n",
    "            \"nvvidconv flip-method=2 ! video/x-raw, format=BGRx ! videoconvert ! video/x-raw, format=BGR ! appsink\"\n",
    "        )\n",
    "    def __enter__(self):\n",
    "        print('entered')\n",
    "        return self.cap\n",
    "    def __exit__(self,a,b,c):\n",
    "        self.cap.release()\n",
    "        print('released')"
   ]
  },
  {
   "cell_type": "code",
   "execution_count": null,
   "metadata": {},
   "outputs": [],
   "source": [
    "def detect_lines(image, rho, theta, threshold, min_line_length, max_line_gap):\n",
    "    crop_img = image[240:480,150:480].copy()\n",
    "    gray = cv2.cvtColor(crop_img, cv2.COLOR_BGR2GRAY)\n",
    "    _, binary = cv2.threshold(gray, 100, 255, cv2.THRESH_BINARY_INV)\n",
    "    edges = cv2.Canny(binary, 50, 150, apertureSize=3)\n",
    "    lines = cv2.HoughLineWP(edges, rho, theta, threshold, minLineLength=min_line_length, maxLineGap=max_line_gap)\n",
    "\n",
    "    if lines is None:\n",
    "        return image, crop_img, [], None, 0\n",
    "\n",
    "    for line in lines:\n",
    "        x1, y1, x2, y2 = line[0]\n",
    "        cv2.line(crop_img, (x1, y1), (x2, y2), (0, 255, 0), 2)\n",
    "\n",
    "    image[240:480, 150:480] = crop_img\n",
    "    \n",
    "    return image, crop_img, lines"
   ]
  },
  {
   "cell_type": "code",
   "execution_count": null,
   "metadata": {},
   "outputs": [],
   "source": [
    "def calculate_steering_angle(left_lines, right_lines):\n",
    "    left_slope = np.mean([((line[0][3] - line[0][1]) / (line[0][2] - line[0][0])) for line in left_lines]) if left_lines else 0\n",
    "    right_slope = np.mean([((line[0][3] - line[0][1]) / (line[0][2] - line[0][0])) for line in right_lines]) if right_lines else 0\n",
    "    \n",
    "    if left_slope == 0 and right_slope == 0:\n",
    "        return 0\n",
    "    \n",
    "    if abs(left_slope) > abs(right_slope):\n",
    "        steering_angle = np.arctan(left_slope)\n",
    "    else:\n",
    "        steering_angle = np.arctan(right_slope)\n",
    "    \n",
    "    steering_angle = np.degrees(steering_angle)\n",
    "    \n",
    "    # Normalize steering angle to be between -1 and 1\n",
    "    max_angle = 45  # Adjust this value based on your specific requirements\n",
    "    normalized_angle = steering_angle / max_angle\n",
    "    \n",
    "    return np.clip(normalized_angle, -1, 1)"
   ]
  },
  {
   "cell_type": "code",
   "execution_count": null,
   "metadata": {},
   "outputs": [],
   "source": [
    "def adjust_wheel_speed(steering_angle, base_speed=20):\n",
    "    left_speed = base_speed\n",
    "    right_speed = base_speed\n",
    "    \n",
    "    if steering_angle > 0:  # Turn right\n",
    "        left_speed += steering_angle * base_speed\n",
    "        right_speed -= steering_angle * base_speed\n",
    "\n",
    "    else:  # Turn left\n",
    "        left_speed += abs(steering_angle) * base_speed\n",
    "        right_speed -= abs(steering_angle) * base_speed\n",
    "    \n",
    "    return int(left_speed), int(right_speed)"
   ]
  },
  {
   "cell_type": "code",
   "execution_count": null,
   "metadata": {},
   "outputs": [
    {
     "data": {
      "application/vnd.jupyter.widget-view+json": {
       "model_id": "60819cf28541435cbd980c560c57c5e1",
       "version_major": 2,
       "version_minor": 0
      },
      "text/plain": [
       "Image(value=b'\\xff\\xd8\\xff\\xe0\\x00\\x10JFIF\\x00\\x01\\x01\\x00\\x00\\x01\\x00\\x01\\x00\\x00\\xff\\xdb\\x00C\\x00\\x02\\x01\\x0…"
      ]
     },
     "metadata": {},
     "output_type": "display_data"
    },
    {
     "name": "stdout",
     "output_type": "stream",
     "text": [
      "released\n"
     ]
    },
    {
     "ename": "KeyboardInterrupt",
     "evalue": "",
     "output_type": "error",
     "traceback": [
      "\u001b[0;31m---------------------------------------------------------------------------\u001b[0m",
      "\u001b[0;31mKeyboardInterrupt\u001b[0m                         Traceback (most recent call last)",
      "Cell \u001b[0;32mIn[5], line 29\u001b[0m\n\u001b[1;32m     24\u001b[0m                 \u001b[38;5;28;01mbreak\u001b[39;00m\n\u001b[1;32m     28\u001b[0m \u001b[38;5;66;03m# 카메라 출력 시작\u001b[39;00m\n\u001b[0;32m---> 29\u001b[0m \u001b[43mshow_camera\u001b[49m\u001b[43m(\u001b[49m\u001b[43m)\u001b[49m\n",
      "Cell \u001b[0;32mIn[5], line 21\u001b[0m, in \u001b[0;36mshow_camera\u001b[0;34m()\u001b[0m\n\u001b[1;32m     19\u001b[0m clear_output(wait\u001b[38;5;241m=\u001b[39m\u001b[38;5;28;01mTrue\u001b[39;00m)\n\u001b[1;32m     20\u001b[0m display(video_widget)\n\u001b[0;32m---> 21\u001b[0m \u001b[43mtime\u001b[49m\u001b[38;5;241;43m.\u001b[39;49m\u001b[43msleep\u001b[49m\u001b[43m(\u001b[49m\u001b[38;5;241;43m0.03\u001b[39;49m\u001b[43m)\u001b[49m  \u001b[38;5;66;03m# 프레임 간 간격\u001b[39;00m\n\u001b[1;32m     23\u001b[0m \u001b[38;5;28;01mif\u001b[39;00m cv2\u001b[38;5;241m.\u001b[39mwaitKey(\u001b[38;5;241m1\u001b[39m) \u001b[38;5;241m&\u001b[39m \u001b[38;5;241m0xFF\u001b[39m \u001b[38;5;241m==\u001b[39m \u001b[38;5;28mord\u001b[39m(\u001b[38;5;124m\"\u001b[39m\u001b[38;5;124mq\u001b[39m\u001b[38;5;124m\"\u001b[39m):\n\u001b[1;32m     24\u001b[0m     \u001b[38;5;28;01mbreak\u001b[39;00m\n",
      "\u001b[0;31mKeyboardInterrupt\u001b[0m: "
     ]
    }
   ],
   "source": [
    "# 카메라에서 실시간 이미지 출력하는 함수\n",
    "def main():\n",
    "    video_widget = widgets.Image(format='jpeg')\n",
    "    tiki.set_motor_mode(tiki.MOTOR_MODE_PID)\n",
    "    with Wrapper() as cap:\n",
    "        while cap.isOpened():\n",
    "            ret, frame = cap.read()\n",
    "            if not ret:\n",
    "                break\n",
    "\n",
    "            result, crop_result, lines= detect_lines(frame, rho, theta, threshold, min_line_length, max_line_gap)\n",
    "            left_lines, right_lines = lines\n",
    "\n",
    "            steering_angle = calculate_steering_angle(left_lines, right_lines)\n",
    "            left_speed, right_speed = adjust_wheel_speed(steering_angle)\n",
    "            tiki.set_motor_power(tiki.MOTOR_LEFT, left_speed)\n",
    "            tiki.set_motor_power(tiki.MOTOR_RIGHT, right_speed)\n",
    "\n",
    "            left_encoder = tiki.get_encoder(tiki.MOTOR_LEFT)\n",
    "            right_encoder = tiki.get_encoder(tiki.MOTOR_RIGHT)\n",
    "            print(f\"Left Encoder: {left_encoder}, Right Encoder: {right_encoder}\")\n",
    "\n",
    "            _, buffer = cv2.imencode('.jpg', result)\n",
    "            video_widget.value = buffer.tobytes()\n",
    "            \n",
    "            clear_output(wait=True)\n",
    "            display(video_widget)\n",
    "            time.sleep(0.03)  # 프레임 간 간격\n",
    "\n",
    "if __name__ == '__main__':\n",
    "    main()"
   ]
  },
  {
   "cell_type": "code",
   "execution_count": null,
   "metadata": {},
   "outputs": [],
   "source": []
  }
 ],
 "metadata": {
  "kernelspec": {
   "display_name": "Python 3 (ipykernel)",
   "language": "python",
   "name": "python3"
  },
  "language_info": {
   "codemirror_mode": {
    "name": "ipython",
    "version": 3
   },
   "file_extension": ".py",
   "mimetype": "text/x-python",
   "name": "python",
   "nbconvert_exporter": "python",
   "pygments_lexer": "ipython3",
   "version": "3.8.0"
  }
 },
 "nbformat": 4,
 "nbformat_minor": 4
}
