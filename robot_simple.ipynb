{
 "cells": [
  {
   "cell_type": "code",
   "execution_count": 1,
   "metadata": {},
   "outputs": [],
   "source": [
    "import cv2\n",
    "import numpy as np\n",
    "\n",
    "import ipywidgets as widgets\n",
    "from IPython.display import display, clear_output\n",
    "import time"
   ]
  },
  {
   "cell_type": "code",
   "execution_count": null,
   "metadata": {},
   "outputs": [],
   "source": [
    "# Hyper Parameters\n",
    "lower_green = np.array([67, 23, 101])\n",
    "upper_green = np.array([80, 255, 168])\n",
    "\n",
    "lower_line = np.array([67, 23, 101])\n",
    "upper_line = np.array([80, 255, 168])\n",
    "\n",
    "ROI_X_start = 240\n",
    "ROI_X_end = 480\n",
    "ROI_Y_start = 150\n",
    "ROI_Y_end = 490\n",
    "\n",
    "ROI = [ROI_X_start, ROI_X_end, ROI_Y_start, ROI_Y_end]\n",
    "\n",
    "rho = 1\n",
    "theta = np.pi / 180\n",
    "threshold = 80\n",
    "min_line_length = 50\n",
    "max_line_gap = 10\n",
    "angle_threshold = 30"
   ]
  },
  {
   "cell_type": "code",
   "execution_count": 3,
   "metadata": {},
   "outputs": [],
   "source": [
    "class Wrapper:\n",
    "    def __init__(self, save_name=None):\n",
    "        self.cap = cv2.VideoCapture(\n",
    "            \"nvarguscamerasrc ! video/x-raw(memory:NVMM), width=640, height=480, framerate=15/1, format=NV12 ! \"\n",
    "            \"nvvidconv flip-method=2 ! video/x-raw, format=BGRx ! videoconvert ! video/x-raw, format=BGR ! appsink\"\n",
    "        )\n",
    "    def __enter__(self):\n",
    "        print('entered')\n",
    "        return self.cap\n",
    "    def __exit__(self,a,b,c):\n",
    "        self.cap.release()\n",
    "        print('released')"
   ]
  },
  {
   "cell_type": "code",
   "execution_count": null,
   "metadata": {},
   "outputs": [],
   "source": [
    "def detect_lines(image, ROI, rho, theta, threshold, min_line_length, max_line_gap):\n",
    "    crop_img = image[ROI[0]:ROI[1], ROI[3]:ROI[4]].copy()\n",
    "    gray = cv2.cvtColor(crop_img, cv2.COLOR_BGR2GRAY)\n",
    "    _, binary = cv2.threshold(gray, 100, 255, cv2.THRESH_BINARY_INV)\n",
    "    edges = cv2.Canny(binary, 50, 150, apertureSize=3)\n",
    "    lines = cv2.HoughLineWsP(edges, rho, theta, threshold, minLineLength=min_line_length, maxLineGap=max_line_gap)\n",
    "\n",
    "    if lines is None:\n",
    "        return image, crop_img, [], None, 0\n",
    "\n",
    "    for line in lines:\n",
    "        x1, y1, x2, y2 = line[0]\n",
    "        cv2.line(crop_img, (x1, y1), (x2, y2), (0, 255, 0), 2)\n",
    "\n",
    "    image[240:480, 150:490] = crop_img\n",
    "\n",
    "    if len(lines) > 0:\n",
    "        center_line = np.mean(lines, axis=0)[0]\n",
    "        center_x = int((center_line[0] + center_line[2]) / 2)\n",
    "        center_y = int((center_line[1] + center_line[3]) / 2)\n",
    "        cv2.circle(crop_img, (center_x, center_y), 5, (255, 0, 0), -1)\n",
    "    else:\n",
    "        center_x = None\n",
    "\n",
    "    return image, crop_img, center_x"
   ]
  },
  {
   "cell_type": "code",
   "execution_count": null,
   "metadata": {},
   "outputs": [],
   "source": [
    "def adjust_wheel_speed(center_x, frame_width):\n",
    "    base_speed = 50\n",
    "    max_speed_diff = 20\n",
    "    if center_x is None:\n",
    "        return base_speed, base_speed\n",
    "\n",
    "    center_offset = center_x - (frame_width // 2)\n",
    "    steering_angle = center_offset * (30 / (frame_width // 2))\n",
    "    speed_diff = (steering_angle / 30) * max_speed_diff\n",
    "\n",
    "    left_wheel_speed = base_speed - speed_diff\n",
    "    right_wheel_speed = base_speed + speed_diff\n",
    "\n",
    "    left_wheel_speed = max(0, min(100, left_wheel_speed))\n",
    "    right_wheel_speed = max(0, min(100, right_wheel_speed))\n",
    "\n",
    "    return left_wheel_speed, right_wheel_speed"
   ]
  },
  {
   "cell_type": "code",
   "execution_count": null,
   "metadata": {},
   "outputs": [
    {
     "data": {
      "application/vnd.jupyter.widget-view+json": {
       "model_id": "60819cf28541435cbd980c560c57c5e1",
       "version_major": 2,
       "version_minor": 0
      },
      "text/plain": [
       "Image(value=b'\\xff\\xd8\\xff\\xe0\\x00\\x10JFIF\\x00\\x01\\x01\\x00\\x00\\x01\\x00\\x01\\x00\\x00\\xff\\xdb\\x00C\\x00\\x02\\x01\\x0…"
      ]
     },
     "metadata": {},
     "output_type": "display_data"
    },
    {
     "name": "stdout",
     "output_type": "stream",
     "text": [
      "released\n"
     ]
    },
    {
     "ename": "KeyboardInterrupt",
     "evalue": "",
     "output_type": "error",
     "traceback": [
      "\u001b[0;31m---------------------------------------------------------------------------\u001b[0m",
      "\u001b[0;31mKeyboardInterrupt\u001b[0m                         Traceback (most recent call last)",
      "Cell \u001b[0;32mIn[5], line 29\u001b[0m\n\u001b[1;32m     24\u001b[0m                 \u001b[38;5;28;01mbreak\u001b[39;00m\n\u001b[1;32m     28\u001b[0m \u001b[38;5;66;03m# 카메라 출력 시작\u001b[39;00m\n\u001b[0;32m---> 29\u001b[0m \u001b[43mshow_camera\u001b[49m\u001b[43m(\u001b[49m\u001b[43m)\u001b[49m\n",
      "Cell \u001b[0;32mIn[5], line 21\u001b[0m, in \u001b[0;36mshow_camera\u001b[0;34m()\u001b[0m\n\u001b[1;32m     19\u001b[0m clear_output(wait\u001b[38;5;241m=\u001b[39m\u001b[38;5;28;01mTrue\u001b[39;00m)\n\u001b[1;32m     20\u001b[0m display(video_widget)\n\u001b[0;32m---> 21\u001b[0m \u001b[43mtime\u001b[49m\u001b[38;5;241;43m.\u001b[39;49m\u001b[43msleep\u001b[49m\u001b[43m(\u001b[49m\u001b[38;5;241;43m0.03\u001b[39;49m\u001b[43m)\u001b[49m  \u001b[38;5;66;03m# 프레임 간 간격\u001b[39;00m\n\u001b[1;32m     23\u001b[0m \u001b[38;5;28;01mif\u001b[39;00m cv2\u001b[38;5;241m.\u001b[39mwaitKey(\u001b[38;5;241m1\u001b[39m) \u001b[38;5;241m&\u001b[39m \u001b[38;5;241m0xFF\u001b[39m \u001b[38;5;241m==\u001b[39m \u001b[38;5;28mord\u001b[39m(\u001b[38;5;124m\"\u001b[39m\u001b[38;5;124mq\u001b[39m\u001b[38;5;124m\"\u001b[39m):\n\u001b[1;32m     24\u001b[0m     \u001b[38;5;28;01mbreak\u001b[39;00m\n",
      "\u001b[0;31mKeyboardInterrupt\u001b[0m: "
     ]
    }
   ],
   "source": [
    "# 카메라에서 실시간 이미지 출력하는 함수\n",
    "def main():\n",
    "    video_widget = widgets.Image(format='jpeg')\n",
    "\n",
    "    with Wrapper() as cap:\n",
    "        while cap.isOpened():\n",
    "            ret, frame = cap.read()\n",
    "            if not ret:\n",
    "                break\n",
    "\n",
    "            result, crop_result, center_x = detect_lines(frame, ROI, rho, theta, threshold, min_line_length, max_line_gap)\n",
    "            left_speed, right_speed = adjust_wheel_speed(center_x, crop_result.shape[1])\n",
    "            \n",
    "            _, buffer = cv2.imencode('.jpg', result)\n",
    "            video_widget.value = buffer.tobytes()\n",
    "            \n",
    "            clear_output(wait=True)\n",
    "            display(video_widget)\n",
    "            time.sleep(0.03)  # 프레임 간 간격\n",
    "\n",
    "if __name__ == '__main__':\n",
    "    main()"
   ]
  },
  {
   "cell_type": "code",
   "execution_count": null,
   "metadata": {},
   "outputs": [],
   "source": []
  }
 ],
 "metadata": {
  "kernelspec": {
   "display_name": "Python 3 (ipykernel)",
   "language": "python",
   "name": "python3"
  },
  "language_info": {
   "codemirror_mode": {
    "name": "ipython",
    "version": 3
   },
   "file_extension": ".py",
   "mimetype": "text/x-python",
   "name": "python",
   "nbconvert_exporter": "python",
   "pygments_lexer": "ipython3",
   "version": "3.8.0"
  }
 },
 "nbformat": 4,
 "nbformat_minor": 4
}
